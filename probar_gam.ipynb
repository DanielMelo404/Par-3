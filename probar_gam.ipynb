{
 "cells": [
  {
   "cell_type": "code",
   "execution_count": 98,
   "metadata": {},
   "outputs": [
    {
     "name": "stdout",
     "output_type": "stream",
     "text": [
      "(4665, 19)\n",
      "(4665,)\n",
      "3\n",
      "1605.176419112459\n"
     ]
    },
    {
     "ename": "IndexError",
     "evalue": "too many indices for array: array is 1-dimensional, but 2 were indexed",
     "output_type": "error",
     "traceback": [
      "\u001b[1;31m---------------------------------------------------------------------------\u001b[0m",
      "\u001b[1;31mIndexError\u001b[0m                                Traceback (most recent call last)",
      "\u001b[1;32m~\\AppData\\Local\\Temp\\ipykernel_15316\\2594317636.py\u001b[0m in \u001b[0;36m<module>\u001b[1;34m\u001b[0m\n\u001b[0;32m    101\u001b[0m \u001b[1;33m\u001b[0m\u001b[0m\n\u001b[0;32m    102\u001b[0m \u001b[0mX_all_\u001b[0m \u001b[1;33m=\u001b[0m \u001b[0mX_all\u001b[0m\u001b[1;33m[\u001b[0m\u001b[1;36m0\u001b[0m\u001b[1;33m:\u001b[0m\u001b[1;36m4660\u001b[0m\u001b[1;33m,\u001b[0m\u001b[1;33m:\u001b[0m\u001b[1;33m]\u001b[0m\u001b[1;33m\u001b[0m\u001b[1;33m\u001b[0m\u001b[0m\n\u001b[1;32m--> 103\u001b[1;33m \u001b[0my_all_\u001b[0m \u001b[1;33m=\u001b[0m \u001b[0my_all\u001b[0m\u001b[1;33m[\u001b[0m\u001b[1;36m0\u001b[0m\u001b[1;33m:\u001b[0m\u001b[1;36m4660\u001b[0m\u001b[1;33m,\u001b[0m\u001b[1;33m:\u001b[0m\u001b[1;33m]\u001b[0m\u001b[1;33m\u001b[0m\u001b[1;33m\u001b[0m\u001b[0m\n\u001b[0m\u001b[0;32m    104\u001b[0m \u001b[1;33m\u001b[0m\u001b[0m\n\u001b[0;32m    105\u001b[0m \u001b[1;32mdef\u001b[0m \u001b[0meval\u001b[0m\u001b[1;33m(\u001b[0m\u001b[0md_train\u001b[0m\u001b[1;33m,\u001b[0m\u001b[0md_test\u001b[0m\u001b[1;33m,\u001b[0m\u001b[0ml_train\u001b[0m\u001b[1;33m,\u001b[0m\u001b[0ml_test\u001b[0m\u001b[1;33m)\u001b[0m\u001b[1;33m:\u001b[0m\u001b[1;33m\u001b[0m\u001b[1;33m\u001b[0m\u001b[0m\n",
      "\u001b[1;31mIndexError\u001b[0m: too many indices for array: array is 1-dimensional, but 2 were indexed"
     ]
    }
   ],
   "source": [
    "\n",
    "# lam1                    =609.058983   \n",
    "# lam10                   =3000.000000  \n",
    "# lam11                   =12.446086    \n",
    "# lam12                   =6.999498     \n",
    "# lam13                   =0.733207     \n",
    "# lam14                   =689.982889   \n",
    "# lam15                   =197.089242   \n",
    "# lam16                   =0.016831     \n",
    "# lam17                   =0.501379     \n",
    "# lam18                   =59.207062    \n",
    "# lam19                   =0.095920     \n",
    "# lam2                    =310.524535   \n",
    "# lam3                    =3000.000000  \n",
    "# lam4                    =2526.968409  \n",
    "# lam5                    =0.016507     \n",
    "# lam6                    =3000.000000  \n",
    "# lam7                    =3000.000000  \n",
    "# lam8                    =0.086510     \n",
    "# lam9                    =35.009964    \n",
    "lam1                    =3000.000000      \n",
    "lam10                   =6000.000000      \n",
    "lam11                   =3000.000000      \n",
    "lam12                   =3000.000000      \n",
    "lam13                   =0.000044         \n",
    "lam14                   =76.200217        \n",
    "lam15                   =3000.000000      \n",
    "lam16                   =0.001000         \n",
    "lam17                   =0.001910         \n",
    "lam18                   =324.074077       \n",
    "lam19                   =0.001000         \n",
    "lam2                    =3000.000000      \n",
    "lam3                    =1458.949206      \n",
    "lam4                    =0.001000         \n",
    "lam5                    =0.000010         \n",
    "lam6                    =6000.000000      \n",
    "lam7                    =6000.000000      \n",
    "lam8                    =3000.000000      \n",
    "lam9                    =3000.000000 \n",
    "import sklearn\n",
    "import openbox\n",
    "from openbox import run_test\n",
    "import pygam\n",
    "from pygam import LinearGAM\n",
    "from numpy import loadtxt\n",
    "\n",
    "import numpy as np\n",
    "\n",
    "import pandas as pd\n",
    "df = pd.read_excel('data.xlsx')\n",
    "X = df.iloc[:, 0:19].values\n",
    "y = df.iloc[:, 19].values.reshape(-1,1)\n",
    "from sklearn.model_selection import train_test_split\n",
    "\n",
    "X_test =  loadtxt('X_shuff_test.csv', delimiter=',')\n",
    "X_train = loadtxt('X_shuff_train.csv', delimiter=',')\n",
    "y_test =  loadtxt('y_shuff_test.csv', delimiter=',')\n",
    "y_train = loadtxt('y_shuff_train.csv', delimiter=',')\n",
    "y_all =  loadtxt('y_shuffled.csv', delimiter=',')\n",
    "X_all = loadtxt('X_shuffled.csv', delimiter=',')\n",
    "print(X_all.shape)\n",
    "print(y_all.shape)\n",
    "\n",
    "cols = np.array([ 1,  4, 14, 16, 18])\n",
    "lam1 = 271.7\n",
    "lam2 = 0.23\n",
    "lam3 = 0.02\n",
    "lam4 = 18\n",
    "lam5 = 0.01\n",
    "\n",
    "from openbox import sp\n",
    "import numpy as np\n",
    "from sklearn.metrics import mean_squared_error\n",
    "\n",
    " \n",
    "gam = LinearGAM(lam = [lam1,lam2,lam3,lam4,lam5]).fit(X_train[:,cols],y_train)\n",
    "y_pred = gam.predict(X_test[:,cols])\n",
    "print(np.count_nonzero(y_pred<0))\n",
    "mse =  mean_squared_error(y_test,y_pred)\n",
    "\n",
    "print(mse)\n",
    "# print(X_all[:10].shape)\n",
    "\n",
    "def cval(data, labels, k):\n",
    "    # data = np.array(data)\n",
    "    # labels = np.array(labels)\n",
    "    data_split = np.vsplit(data, k)\n",
    "    # print(data_split.shape)\n",
    "    label_split = np.vsplit(labels, k)\n",
    "    # training classifier\n",
    "    score = 0\n",
    "    for i in range(k):\n",
    "        data_train = np.concatenate((data_split[:i]+data_split[i+1:]), axis = 0)\n",
    "        print(label_split[1].shape)\n",
    "        labels_train = np.concatenate((label_split[:i]+label_split[i+1:]), axis = 1)\n",
    "\n",
    "        data_test = data_split[i]\n",
    "        labels_test = label_split[i]\n",
    "        print(data_train.shape,data_test.shape,labels_train.shape,labels_test.shape)\n",
    "        score += eval(data_train, data_test, labels_train, labels_test)\n",
    "    return score/k  \n",
    "\n",
    "X_all_ = X_all[0:4660,:]\n",
    "y_all_ = y_all[0:4660,:]\n",
    "\n",
    "def eval(d_train,d_test,l_train,l_test):\n",
    "    print(l_train.shape,d_train.shape)\n",
    "    gam = LinearGAM(lam = [lam1,lam2,lam3,lam4,lam5,lam6,lam7,lam8,lam9,lam10, lam11,lam12,lam13,lam14,lam15, lam16,lam17,lam18,lam19]).fit(d_train,l_train)\n",
    "    y_pred = gam.predict(d_test)\n",
    "    mse =  mean_squared_error(l_test,y_pred)\n",
    "    return mse\n",
    "\n",
    "\n",
    "print(cval(X_all_,y_all_,10))\n",
    "X_all.shape\n",
    "[1646,1835,1581,1775.3,2642.0,1742,1439,1710,2925,1761]\n",
    "[1730,1631.,1665,1758,1589,1687,1799.,1620,1665,1649]\n",
    "[1648,1711,1623,1678,1727,1529,1647,1668,1783,1533,1649,1593,1605]"
   ]
  },
  {
   "cell_type": "code",
   "execution_count": 99,
   "metadata": {},
   "outputs": [
    {
     "data": {
      "text/plain": [
       "1645.6923076923076"
      ]
     },
     "execution_count": 99,
     "metadata": {},
     "output_type": "execute_result"
    }
   ],
   "source": [
    "arr = np.array([1659,1877,1614,1584,1695,1843,1612,1667,1630,1639])\n",
    "np.average(arr)\n",
    "\n",
    "arr =np.array([1648,1711,1623,1678,1727,1529,1647,1668,1783,1533,1649,1593,1605])\n",
    "np.average(arr)"
   ]
  },
  {
   "cell_type": "code",
   "execution_count": null,
   "metadata": {},
   "outputs": [
    {
     "data": {
      "text/plain": [
       "(4665, 19)"
      ]
     },
     "execution_count": 9,
     "metadata": {},
     "output_type": "execute_result"
    }
   ],
   "source": [
    "X_all.shape"
   ]
  }
 ],
 "metadata": {
  "kernelspec": {
   "display_name": "Python 3.7.15 ('openbox3.7')",
   "language": "python",
   "name": "python3"
  },
  "language_info": {
   "codemirror_mode": {
    "name": "ipython",
    "version": 3
   },
   "file_extension": ".py",
   "mimetype": "text/x-python",
   "name": "python",
   "nbconvert_exporter": "python",
   "pygments_lexer": "ipython3",
   "version": "3.7.15"
  },
  "orig_nbformat": 4,
  "vscode": {
   "interpreter": {
    "hash": "e987335b78db8449cd4834775c03861c671c52888ef9987569d8eabd413aabf4"
   }
  }
 },
 "nbformat": 4,
 "nbformat_minor": 2
}
