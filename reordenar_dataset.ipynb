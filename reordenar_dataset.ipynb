{
 "cells": [
  {
   "cell_type": "code",
   "execution_count": 3,
   "metadata": {},
   "outputs": [],
   "source": [
    "import numpy as np\n",
    "import pandas as pd\n",
    "import matplotlib.pyplot as plt\n",
    "import seaborn as sns\n",
    "from sklearn.metrics import mean_squared_error\n",
    "from collections import Counter\n",
    "from IPython.core.display import display, HTML\n",
    "from numpy import savetxt"
   ]
  },
  {
   "cell_type": "code",
   "execution_count": 46,
   "metadata": {},
   "outputs": [
    {
     "name": "stdout",
     "output_type": "stream",
     "text": [
      "(4665, 19)\n",
      "(4665, 20)\n"
     ]
    }
   ],
   "source": [
    "\n",
    "df_all_data = pd.read_excel('data.xlsx')\n",
    "X_all = df_all_data.iloc[:, 0:19].values\n",
    "y_all = df_all_data.iloc[:,19].values.reshape(-1,1)\n",
    "# np.random.seed(0)\n",
    "print(X_all.shape)\n",
    "print(df_all_data.shape)\n",
    "\n",
    "rand_i = np.random.choice(X_all.shape[0], X_all.shape[0], replace=False)\n",
    "\n",
    "X_all_random = X_all[rand_i,:]\n",
    "y_all_random = y_all[rand_i,:]\n",
    "\n",
    "np.savetxt(\"X_shuffled.csv\",X_all_random,delimiter=',')\n",
    "np.savetxt(\"y_shuffled.csv\",y_all_random,delimiter=',')\n",
    "\n",
    "from sklearn.model_selection import train_test_split\n",
    "X_train, X_test, y_train, y_test = train_test_split(X_all_random, y_all_random, test_size = 0.2, random_state = 25);\n",
    "\n",
    "savetxt('X_shuff_test.csv', X_test, delimiter=',')\n",
    "savetxt('X_shuff_train.csv', X_train, delimiter=',')\n",
    "savetxt('y_shuff_test.csv', y_test, delimiter=',')\n",
    "savetxt('y_shuff_train.csv',y_train, delimiter=',')\n",
    "\n"
   ]
  }
 ],
 "metadata": {
  "kernelspec": {
   "display_name": "Python 3.7.15 ('openbox3.7')",
   "language": "python",
   "name": "python3"
  },
  "language_info": {
   "codemirror_mode": {
    "name": "ipython",
    "version": 3
   },
   "file_extension": ".py",
   "mimetype": "text/x-python",
   "name": "python",
   "nbconvert_exporter": "python",
   "pygments_lexer": "ipython3",
   "version": "3.7.15"
  },
  "orig_nbformat": 4,
  "vscode": {
   "interpreter": {
    "hash": "e987335b78db8449cd4834775c03861c671c52888ef9987569d8eabd413aabf4"
   }
  }
 },
 "nbformat": 4,
 "nbformat_minor": 2
}
