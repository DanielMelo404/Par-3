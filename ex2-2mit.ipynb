{
 "cells": [
  {
   "cell_type": "code",
   "execution_count": null,
   "metadata": {},
   "outputs": [],
   "source": [
    "def Q_learn(mdp, q, lr=.1, iters=100, eps = 0.5, interactive_fn=None):\n",
    "    s = mdp.init_state()\n",
    "    for i in range(iters):\n",
    "        if interactive_fn: interactive_fn(q, i)\n",
    "        disc = mdp.discount_factor\n",
    "        a = epsilon_greedy(q,s,eps=0.5)\n",
    "        r,s_prime = mdp.sim_transition(s,a)\n",
    "        t = r+disc*value(q,s_prime)\n",
    "        if mdp.terminal( s):\n",
    "            t = r\n",
    "        q.update([(s,a,t)],lr)\n",
    "        s = s_prime\n",
    "        # include this line in the iteration, where i is the iteration number\n",
    "        \n",
    "    return q\n",
    "    \n",
    "\n",
    "\n",
    "\n"
   ]
  },
  {
   "cell_type": "code",
   "execution_count": null,
   "metadata": {},
   "outputs": [],
   "source": [
    "\n",
    "\n"
   ]
  },
  {
   "cell_type": "code",
   "execution_count": 1,
   "metadata": {},
   "outputs": [],
   "source": [
    "def tinyTerminal(s):\n",
    "    return s==4\n",
    "def tinyR(s, a):\n",
    "    if s == 1: return 1\n",
    "    elif s == 3: return 2\n",
    "    else: return 0\n",
    "def tinyTrans(s, a):\n",
    "    if s == 0:\n",
    "        if a == 'a':\n",
    "            return DDist({1 : 0.9, 2 : 0.1})\n",
    "        else:\n",
    "            return DDist({1 : 0.1, 2 : 0.9})\n",
    "    elif s == 1:\n",
    "        return DDist({1 : 0.1, 0 : 0.9})\n",
    "    elif s == 2:\n",
    "        return DDist({2 : 0.1, 3 : 0.9})\n",
    "    elif s == 3:\n",
    "        return DDist({3 : 0.1, 0 : 0.5, 4 : 0.4})\n",
    "    elif s == 4:\n",
    "        return DDist({4 : 1.0})"
   ]
  }
 ],
 "metadata": {
  "kernelspec": {
   "display_name": "Python 3.8.10 64-bit",
   "language": "python",
   "name": "python3"
  },
  "language_info": {
   "codemirror_mode": {
    "name": "ipython",
    "version": 3
   },
   "file_extension": ".py",
   "mimetype": "text/x-python",
   "name": "python",
   "nbconvert_exporter": "python",
   "pygments_lexer": "ipython3",
   "version": "3.8.10"
  },
  "orig_nbformat": 4,
  "vscode": {
   "interpreter": {
    "hash": "e7370f93d1d0cde622a1f8e1c04877d8463912d04d973331ad4851f04de6915a"
   }
  }
 },
 "nbformat": 4,
 "nbformat_minor": 2
}
