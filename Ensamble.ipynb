{
 "cells": [
  {
   "cell_type": "code",
   "execution_count": 1,
   "metadata": {},
   "outputs": [],
   "source": [
    "from sklearn.metrics import mean_squared_error"
   ]
  },
  {
   "cell_type": "code",
   "execution_count": 3,
   "metadata": {},
   "outputs": [
    {
     "name": "stderr",
     "output_type": "stream",
     "text": [
      "c:\\Users\\Daniel\\anaconda3\\envs\\openbox3.7\\lib\\site-packages\\sklearn\\base.py:338: UserWarning: Trying to unpickle estimator StandardScaler from version 1.1.3 when using version 1.0.2. This might lead to breaking code or invalid results. Use at your own risk. For more info please refer to:\n",
      "https://scikit-learn.org/stable/modules/model_persistence.html#security-maintainability-limitations\n",
      "  UserWarning,\n",
      "c:\\Users\\Daniel\\anaconda3\\envs\\openbox3.7\\lib\\site-packages\\sklearn\\base.py:338: UserWarning: Trying to unpickle estimator PolynomialFeatures from version 1.1.3 when using version 1.0.2. This might lead to breaking code or invalid results. Use at your own risk. For more info please refer to:\n",
      "https://scikit-learn.org/stable/modules/model_persistence.html#security-maintainability-limitations\n",
      "  UserWarning,\n",
      "c:\\Users\\Daniel\\anaconda3\\envs\\openbox3.7\\lib\\site-packages\\sklearn\\base.py:338: UserWarning: Trying to unpickle estimator ElasticNet from version 1.1.3 when using version 1.0.2. This might lead to breaking code or invalid results. Use at your own risk. For more info please refer to:\n",
      "https://scikit-learn.org/stable/modules/model_persistence.html#security-maintainability-limitations\n",
      "  UserWarning,\n",
      "c:\\Users\\Daniel\\anaconda3\\envs\\openbox3.7\\lib\\site-packages\\sklearn\\base.py:338: UserWarning: Trying to unpickle estimator Pipeline from version 1.1.3 when using version 1.0.2. This might lead to breaking code or invalid results. Use at your own risk. For more info please refer to:\n",
      "https://scikit-learn.org/stable/modules/model_persistence.html#security-maintainability-limitations\n",
      "  UserWarning,\n"
     ]
    },
    {
     "data": {
      "text/plain": [
       "Pipeline(steps=[('scalar', StandardScaler()), ('poly', PolynomialFeatures()),\n",
       "                ('model', ElasticNet(l1_ratio=1e-06))])"
      ]
     },
     "execution_count": 3,
     "metadata": {},
     "output_type": "execute_result"
    }
   ],
   "source": [
    "import pickle\n",
    "filenames = ['finalized_model.sav']\n",
    "model_list = []\n",
    "\n",
    "for i in range(len(filenames)):\n",
    "    loaded_model = pickle.load(open(filenames[i], 'rb'))\n",
    "    model_list.append(loaded_model)\n",
    "model_list[0]\n"
   ]
  },
  {
   "cell_type": "code",
   "execution_count": null,
   "metadata": {},
   "outputs": [],
   "source": [
    "from sklearn.linear_model import LinearRegression\n",
    "from sklearn.preprocessing import StandardScaler\n",
    "from sklearn.pipeline import Pipeline\n",
    "from sklearn.preprocessing import PolynomialFeatures\n",
    "\n",
    "out = []\n",
    "model_list.append\n",
    "X_out[i] = model_list[i].predict(X)\n",
    "\n",
    "steps = [('scalar', StandardScaler()),\n",
    "        ('model', LinearRegression)]\n",
    "\n",
    "enssemble_pipe = Pipeline(steps)\n",
    "\n",
    "enssemble_pipe.fit(X_train, y_train)\n",
    "\n",
    "y_pred = ridge_pipe.predict(X_test)\n",
    "# Applying k-Fold Cross Validation\n",
    "from sklearn.model_selection import cross_val_score\n",
    "accuracies = cross_val_score(estimator = ridge_pipe,scoring='neg_mean_squared_error', X = X_train, y = y_train, cv = 10)\n",
    "accuracies.mean()"
   ]
  }
 ],
 "metadata": {
  "kernelspec": {
   "display_name": "Python 3.7.15 ('openbox3.7')",
   "language": "python",
   "name": "python3"
  },
  "language_info": {
   "codemirror_mode": {
    "name": "ipython",
    "version": 3
   },
   "file_extension": ".py",
   "mimetype": "text/x-python",
   "name": "python",
   "nbconvert_exporter": "python",
   "pygments_lexer": "ipython3",
   "version": "3.7.15"
  },
  "orig_nbformat": 4,
  "vscode": {
   "interpreter": {
    "hash": "e987335b78db8449cd4834775c03861c671c52888ef9987569d8eabd413aabf4"
   }
  }
 },
 "nbformat": 4,
 "nbformat_minor": 2
}
