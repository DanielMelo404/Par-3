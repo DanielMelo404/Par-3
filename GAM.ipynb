{
 "cells": [
  {
   "cell_type": "code",
   "execution_count": 5,
   "metadata": {},
   "outputs": [
    {
     "name": "stderr",
     "output_type": "stream",
     "text": [
      "100% (11 of 11) |########################| Elapsed Time: 0:00:01 Time:  0:00:01\n"
     ]
    },
    {
     "data": {
      "text/plain": [
       "<Figure size 432x288 with 0 Axes>"
      ]
     },
     "metadata": {},
     "output_type": "display_data"
    },
    {
     "data": {
      "image/png": "[encoded data removed]",
      "text/plain": [
       "<Figure size 432x288 with 3 Axes>"
      ]
     },
     "metadata": {
      "needs_background": "light"
     },
     "output_type": "display_data"
    }
   ],
   "source": [
    "from pygam import LinearGAM, s, f\n",
    "from pygam.datasets import wage\n",
    "import numpy as np\n",
    "from matplotlib import pyplot as plt\n",
    "X, y = wage(return_X_y=True)\n",
    "\n",
    "## model\n",
    "gam = LinearGAM(s(0) + s(1) + f(2))\n",
    "gam.gridsearch(X, y)\n",
    "\n",
    "\n",
    "## plotting\n",
    "plt.figure();\n",
    "fig, axs = plt.subplots(1,3);\n",
    "\n",
    "titles = ['year', 'age', 'education']\n",
    "for i, ax in enumerate(axs):\n",
    "    XX = gam.generate_X_grid(term=i)\n",
    "    ax.plot(XX[:, i], gam.partial_dependence(term=i, X=XX))\n",
    "    ax.plot(XX[:, i], gam.partial_dependence(term=i, X=XX, width=.95)[1], c='r', ls='--')\n",
    "    if i == 0:\n",
    "        ax.set_ylim(-30,30)\n",
    "    ax.set_title(titles[i]);  \n"
   ]
  },
  {
   "cell_type": "code",
   "execution_count": 6,
   "metadata": {},
   "outputs": [
    {
     "data": {
      "text/html": [
       "<div>\n",
       "<style scoped>\n",
       "    .dataframe tbody tr th:only-of-type {\n",
       "        vertical-align: middle;\n",
       "    }\n",
       "\n",
       "    .dataframe tbody tr th {\n",
       "        vertical-align: top;\n",
       "    }\n",
       "\n",
       "    .dataframe thead th {\n",
       "        text-align: right;\n",
       "    }\n",
       "</style>\n",
       "<table border=\"1\" class=\"dataframe\">\n",
       "  <thead>\n",
       "    <tr style=\"text-align: right;\">\n",
       "      <th></th>\n",
       "      <th>avg_ws80m1</th>\n",
       "      <th>sd_ws80m1</th>\n",
       "      <th>med_ws80m1</th>\n",
       "      <th>riq_sp80m1</th>\n",
       "      <th>avg_ws80m2</th>\n",
       "      <th>sd_ws80m2</th>\n",
       "      <th>med_ws80m2</th>\n",
       "      <th>riq_sp80m2</th>\n",
       "      <th>avg_ws30ft</th>\n",
       "      <th>sd_ws30ft</th>\n",
       "      <th>med_ws30ft</th>\n",
       "      <th>riq_sp30ft</th>\n",
       "      <th>avg_wd</th>\n",
       "      <th>med_wd</th>\n",
       "      <th>avg_wg</th>\n",
       "      <th>med_wg</th>\n",
       "      <th>avg_30ft</th>\n",
       "      <th>avg_hum</th>\n",
       "      <th>wind_speed</th>\n",
       "      <th>pow</th>\n",
       "    </tr>\n",
       "  </thead>\n",
       "  <tbody>\n",
       "    <tr>\n",
       "      <th>0</th>\n",
       "      <td>12.290486</td>\n",
       "      <td>2.468048</td>\n",
       "      <td>12.100651</td>\n",
       "      <td>2.366884</td>\n",
       "      <td>12.461335</td>\n",
       "      <td>2.297320</td>\n",
       "      <td>12.557437</td>\n",
       "      <td>3.139359</td>\n",
       "      <td>7.938776</td>\n",
       "      <td>1.463560</td>\n",
       "      <td>8.0</td>\n",
       "      <td>2.00</td>\n",
       "      <td>18.020408</td>\n",
       "      <td>20.0</td>\n",
       "      <td>9.530612</td>\n",
       "      <td>9.0</td>\n",
       "      <td>34.742857</td>\n",
       "      <td>89.040816</td>\n",
       "      <td>5.805</td>\n",
       "      <td>79.5</td>\n",
       "    </tr>\n",
       "    <tr>\n",
       "      <th>1</th>\n",
       "      <td>12.108443</td>\n",
       "      <td>1.689733</td>\n",
       "      <td>12.100651</td>\n",
       "      <td>2.458604</td>\n",
       "      <td>12.426631</td>\n",
       "      <td>1.509785</td>\n",
       "      <td>12.557437</td>\n",
       "      <td>0.000000</td>\n",
       "      <td>7.916667</td>\n",
       "      <td>0.961843</td>\n",
       "      <td>8.0</td>\n",
       "      <td>0.00</td>\n",
       "      <td>31.816667</td>\n",
       "      <td>9.0</td>\n",
       "      <td>9.383333</td>\n",
       "      <td>9.0</td>\n",
       "      <td>34.521667</td>\n",
       "      <td>88.983333</td>\n",
       "      <td>5.883</td>\n",
       "      <td>93.8</td>\n",
       "    </tr>\n",
       "    <tr>\n",
       "      <th>2</th>\n",
       "      <td>15.628086</td>\n",
       "      <td>2.017991</td>\n",
       "      <td>15.467534</td>\n",
       "      <td>2.366884</td>\n",
       "      <td>15.984571</td>\n",
       "      <td>1.769569</td>\n",
       "      <td>15.696797</td>\n",
       "      <td>1.569680</td>\n",
       "      <td>10.183333</td>\n",
       "      <td>1.127344</td>\n",
       "      <td>10.0</td>\n",
       "      <td>1.00</td>\n",
       "      <td>226.716667</td>\n",
       "      <td>354.5</td>\n",
       "      <td>11.950000</td>\n",
       "      <td>12.0</td>\n",
       "      <td>34.055000</td>\n",
       "      <td>89.816667</td>\n",
       "      <td>6.391</td>\n",
       "      <td>99.5</td>\n",
       "    </tr>\n",
       "    <tr>\n",
       "      <th>3</th>\n",
       "      <td>15.211906</td>\n",
       "      <td>1.876468</td>\n",
       "      <td>15.284092</td>\n",
       "      <td>2.366884</td>\n",
       "      <td>16.010733</td>\n",
       "      <td>1.890697</td>\n",
       "      <td>15.696797</td>\n",
       "      <td>3.139359</td>\n",
       "      <td>10.200000</td>\n",
       "      <td>1.204511</td>\n",
       "      <td>10.0</td>\n",
       "      <td>2.00</td>\n",
       "      <td>24.300000</td>\n",
       "      <td>6.5</td>\n",
       "      <td>12.100000</td>\n",
       "      <td>12.0</td>\n",
       "      <td>33.710000</td>\n",
       "      <td>90.266667</td>\n",
       "      <td>6.608</td>\n",
       "      <td>113.8</td>\n",
       "    </tr>\n",
       "    <tr>\n",
       "      <th>4</th>\n",
       "      <td>12.258443</td>\n",
       "      <td>1.815307</td>\n",
       "      <td>12.100651</td>\n",
       "      <td>2.000000</td>\n",
       "      <td>12.662083</td>\n",
       "      <td>1.824757</td>\n",
       "      <td>12.557437</td>\n",
       "      <td>3.139359</td>\n",
       "      <td>8.066667</td>\n",
       "      <td>1.162503</td>\n",
       "      <td>8.0</td>\n",
       "      <td>2.00</td>\n",
       "      <td>8.116667</td>\n",
       "      <td>8.0</td>\n",
       "      <td>9.733333</td>\n",
       "      <td>10.0</td>\n",
       "      <td>33.778333</td>\n",
       "      <td>90.116667</td>\n",
       "      <td>6.533</td>\n",
       "      <td>126.3</td>\n",
       "    </tr>\n",
       "    <tr>\n",
       "      <th>...</th>\n",
       "      <td>...</td>\n",
       "      <td>...</td>\n",
       "      <td>...</td>\n",
       "      <td>...</td>\n",
       "      <td>...</td>\n",
       "      <td>...</td>\n",
       "      <td>...</td>\n",
       "      <td>...</td>\n",
       "      <td>...</td>\n",
       "      <td>...</td>\n",
       "      <td>...</td>\n",
       "      <td>...</td>\n",
       "      <td>...</td>\n",
       "      <td>...</td>\n",
       "      <td>...</td>\n",
       "      <td>...</td>\n",
       "      <td>...</td>\n",
       "      <td>...</td>\n",
       "      <td>...</td>\n",
       "      <td>...</td>\n",
       "    </tr>\n",
       "    <tr>\n",
       "      <th>4660</th>\n",
       "      <td>5.060390</td>\n",
       "      <td>3.611628</td>\n",
       "      <td>4.733767</td>\n",
       "      <td>4.733767</td>\n",
       "      <td>4.081167</td>\n",
       "      <td>3.600360</td>\n",
       "      <td>3.139359</td>\n",
       "      <td>3.139359</td>\n",
       "      <td>2.600000</td>\n",
       "      <td>2.293691</td>\n",
       "      <td>2.0</td>\n",
       "      <td>2.00</td>\n",
       "      <td>142.833333</td>\n",
       "      <td>20.5</td>\n",
       "      <td>3.283333</td>\n",
       "      <td>3.0</td>\n",
       "      <td>62.720000</td>\n",
       "      <td>95.283333</td>\n",
       "      <td>5.901</td>\n",
       "      <td>17.7</td>\n",
       "    </tr>\n",
       "    <tr>\n",
       "      <th>4661</th>\n",
       "      <td>12.170564</td>\n",
       "      <td>2.224924</td>\n",
       "      <td>12.100651</td>\n",
       "      <td>2.458604</td>\n",
       "      <td>13.525407</td>\n",
       "      <td>2.277281</td>\n",
       "      <td>13.342277</td>\n",
       "      <td>1.962100</td>\n",
       "      <td>8.616667</td>\n",
       "      <td>1.450794</td>\n",
       "      <td>8.5</td>\n",
       "      <td>1.25</td>\n",
       "      <td>323.750000</td>\n",
       "      <td>346.0</td>\n",
       "      <td>10.483333</td>\n",
       "      <td>10.0</td>\n",
       "      <td>62.651667</td>\n",
       "      <td>95.483333</td>\n",
       "      <td>6.717</td>\n",
       "      <td>15.6</td>\n",
       "    </tr>\n",
       "    <tr>\n",
       "      <th>4662</th>\n",
       "      <td>16.555196</td>\n",
       "      <td>4.612591</td>\n",
       "      <td>16.100651</td>\n",
       "      <td>7.366884</td>\n",
       "      <td>18.548382</td>\n",
       "      <td>5.189903</td>\n",
       "      <td>18.836156</td>\n",
       "      <td>8.240818</td>\n",
       "      <td>11.816667</td>\n",
       "      <td>3.306346</td>\n",
       "      <td>12.0</td>\n",
       "      <td>5.25</td>\n",
       "      <td>317.733333</td>\n",
       "      <td>312.5</td>\n",
       "      <td>14.900000</td>\n",
       "      <td>15.0</td>\n",
       "      <td>61.900000</td>\n",
       "      <td>95.000000</td>\n",
       "      <td>6.912</td>\n",
       "      <td>97.7</td>\n",
       "    </tr>\n",
       "    <tr>\n",
       "      <th>4663</th>\n",
       "      <td>17.014071</td>\n",
       "      <td>4.695941</td>\n",
       "      <td>17.467534</td>\n",
       "      <td>7.458604</td>\n",
       "      <td>19.411705</td>\n",
       "      <td>5.071680</td>\n",
       "      <td>19.620996</td>\n",
       "      <td>9.418078</td>\n",
       "      <td>12.366667</td>\n",
       "      <td>3.231029</td>\n",
       "      <td>12.5</td>\n",
       "      <td>6.00</td>\n",
       "      <td>323.900000</td>\n",
       "      <td>320.0</td>\n",
       "      <td>15.866667</td>\n",
       "      <td>16.5</td>\n",
       "      <td>60.943333</td>\n",
       "      <td>95.000000</td>\n",
       "      <td>7.242</td>\n",
       "      <td>103.7</td>\n",
       "    </tr>\n",
       "    <tr>\n",
       "      <th>4664</th>\n",
       "      <td>14.714558</td>\n",
       "      <td>2.062383</td>\n",
       "      <td>14.600651</td>\n",
       "      <td>3.366884</td>\n",
       "      <td>16.481637</td>\n",
       "      <td>2.171773</td>\n",
       "      <td>15.696797</td>\n",
       "      <td>2.354520</td>\n",
       "      <td>10.500000</td>\n",
       "      <td>1.383577</td>\n",
       "      <td>10.0</td>\n",
       "      <td>1.50</td>\n",
       "      <td>238.277778</td>\n",
       "      <td>353.5</td>\n",
       "      <td>13.083333</td>\n",
       "      <td>13.0</td>\n",
       "      <td>60.575000</td>\n",
       "      <td>94.527778</td>\n",
       "      <td>7.761</td>\n",
       "      <td>153.4</td>\n",
       "    </tr>\n",
       "  </tbody>\n",
       "</table>\n",
       "<p>4665 rows × 20 columns</p>\n",
       "</div>"
      ],
      "text/plain": [
       "      avg_ws80m1  sd_ws80m1  med_ws80m1  riq_sp80m1  avg_ws80m2  sd_ws80m2  \\\n",
       "0      12.290486   2.468048   12.100651    2.366884   12.461335   2.297320   \n",
       "1      12.108443   1.689733   12.100651    2.458604   12.426631   1.509785   \n",
       "2      15.628086   2.017991   15.467534    2.366884   15.984571   1.769569   \n",
       "3      15.211906   1.876468   15.284092    2.366884   16.010733   1.890697   \n",
       "4      12.258443   1.815307   12.100651    2.000000   12.662083   1.824757   \n",
       "...          ...        ...         ...         ...         ...        ...   \n",
       "4660    5.060390   3.611628    4.733767    4.733767    4.081167   3.600360   \n",
       "4661   12.170564   2.224924   12.100651    2.458604   13.525407   2.277281   \n",
       "4662   16.555196   4.612591   16.100651    7.366884   18.548382   5.189903   \n",
       "4663   17.014071   4.695941   17.467534    7.458604   19.411705   5.071680   \n",
       "4664   14.714558   2.062383   14.600651    3.366884   16.481637   2.171773   \n",
       "\n",
       "      med_ws80m2  riq_sp80m2  avg_ws30ft  sd_ws30ft  med_ws30ft  riq_sp30ft  \\\n",
       "0      12.557437    3.139359    7.938776   1.463560         8.0        2.00   \n",
       "1      12.557437    0.000000    7.916667   0.961843         8.0        0.00   \n",
       "2      15.696797    1.569680   10.183333   1.127344        10.0        1.00   \n",
       "3      15.696797    3.139359   10.200000   1.204511        10.0        2.00   \n",
       "4      12.557437    3.139359    8.066667   1.162503         8.0        2.00   \n",
       "...          ...         ...         ...        ...         ...         ...   \n",
       "4660    3.139359    3.139359    2.600000   2.293691         2.0        2.00   \n",
       "4661   13.342277    1.962100    8.616667   1.450794         8.5        1.25   \n",
       "4662   18.836156    8.240818   11.816667   3.306346        12.0        5.25   \n",
       "4663   19.620996    9.418078   12.366667   3.231029        12.5        6.00   \n",
       "4664   15.696797    2.354520   10.500000   1.383577        10.0        1.50   \n",
       "\n",
       "          avg_wd  med_wd     avg_wg  med_wg   avg_30ft    avg_hum  wind_speed  \\\n",
       "0      18.020408    20.0   9.530612     9.0  34.742857  89.040816       5.805   \n",
       "1      31.816667     9.0   9.383333     9.0  34.521667  88.983333       5.883   \n",
       "2     226.716667   354.5  11.950000    12.0  34.055000  89.816667       6.391   \n",
       "3      24.300000     6.5  12.100000    12.0  33.710000  90.266667       6.608   \n",
       "4       8.116667     8.0   9.733333    10.0  33.778333  90.116667       6.533   \n",
       "...          ...     ...        ...     ...        ...        ...         ...   \n",
       "4660  142.833333    20.5   3.283333     3.0  62.720000  95.283333       5.901   \n",
       "4661  323.750000   346.0  10.483333    10.0  62.651667  95.483333       6.717   \n",
       "4662  317.733333   312.5  14.900000    15.0  61.900000  95.000000       6.912   \n",
       "4663  323.900000   320.0  15.866667    16.5  60.943333  95.000000       7.242   \n",
       "4664  238.277778   353.5  13.083333    13.0  60.575000  94.527778       7.761   \n",
       "\n",
       "        pow  \n",
       "0      79.5  \n",
       "1      93.8  \n",
       "2      99.5  \n",
       "3     113.8  \n",
       "4     126.3  \n",
       "...     ...  \n",
       "4660   17.7  \n",
       "4661   15.6  \n",
       "4662   97.7  \n",
       "4663  103.7  \n",
       "4664  153.4  \n",
       "\n",
       "[4665 rows x 20 columns]"
      ]
     },
     "execution_count": 6,
     "metadata": {},
     "output_type": "execute_result"
    }
   ],
   "source": [
    "import pandas as pd\n",
    "df = pd.read_excel('data.xlsx')\n",
    "df"
   ]
  },
  {
   "cell_type": "code",
   "execution_count": 7,
   "metadata": {},
   "outputs": [],
   "source": [
    "\n",
    "X = df.iloc[:, 0:19].values\n",
    "y = df.iloc[:, 19].values.reshape(-1,1)\n",
    "from sklearn.model_selection import train_test_split\n",
    "\n",
    "X_train, X_test, y_train, y_test = train_test_split(X, y, test_size = 0.3, random_state = 25)\n"
   ]
  },
  {
   "cell_type": "code",
   "execution_count": 20,
   "metadata": {},
   "outputs": [
    {
     "name": "stdout",
     "output_type": "stream",
     "text": [
      "LinearGAM                                                                                                 \n",
      "=============================================== ==========================================================\n",
      "Distribution:                        NormalDist Effective DoF:                                    193.4173\n",
      "Link Function:                     IdentityLink Log Likelihood:                                -27039.8889\n",
      "Number of Samples:                         3265 AIC:                                            54468.6125\n",
      "                                                AICc:                                           54493.3667\n",
      "                                                GCV:                                             1762.6848\n",
      "                                                Scale:                                           1575.7795\n",
      "                                                Pseudo R-Squared:                                   0.7015\n",
      "==========================================================================================================\n",
      "Feature Function                  Lambda               Rank         EDoF         P > x        Sig. Code   \n",
      "================================= ==================== ============ ============ ============ ============\n",
      "s(0)                              [0.2]                20           17.6         7.08e-01                 \n",
      "s(1)                              [0.2]                20           13.5         1.69e-02     *           \n",
      "s(2)                              [0.2]                20           13.1         4.61e-01                 \n",
      "s(3)                              [0.2]                20           10.9         1.56e-01                 \n",
      "s(4)                              [0.2]                20           15.1         4.33e-01                 \n",
      "s(5)                              [0.2]                20           8.1          2.37e-03     **          \n",
      "s(6)                              [0.2]                20           11.6         7.31e-01                 \n",
      "s(7)                              [0.2]                20           7.3          1.06e-01                 \n",
      "s(8)                              [0.2]                20           1.3          4.33e-01                 \n",
      "s(9)                              [0.2]                20           0.8          2.37e-03     **          \n",
      "s(10)                             [0.2]                20           0.9          7.31e-01                 \n",
      "s(11)                             [0.2]                20           0.8          1.06e-01                 \n",
      "s(12)                             [0.2]                20           15.5         5.16e-01                 \n",
      "s(13)                             [0.2]                20           13.6         5.10e-01                 \n",
      "s(14)                             [0.2]                20           10.3         6.97e-01                 \n",
      "s(15)                             [0.2]                20           8.9          6.31e-01                 \n",
      "s(16)                             [0.2]                20           15.2         9.16e-04     ***         \n",
      "s(17)                             [0.2]                20           15.1         6.08e-02     .           \n",
      "s(18)                             [0.2]                20           13.7         1.11e-16     ***         \n",
      "intercept                                              1            0.0          3.84e-07     ***         \n",
      "==========================================================================================================\n",
      "Significance codes:  0 '***' 0.001 '**' 0.01 '*' 0.05 '.' 0.1 ' ' 1\n",
      "\n",
      "WARNING: Fitting splines and a linear function to a feature introduces a model identifiability problem\n",
      "         which can cause p-values to appear significant when they are not.\n",
      "\n",
      "WARNING: p-values calculated in this manner behave correctly for un-penalized models or models with\n",
      "         known smoothing parameters, but when smoothing parameters have been estimated, the p-values\n",
      "         are typically lower than they should be, meaning that the tests reject the null too readily.\n"
     ]
    },
    {
     "name": "stderr",
     "output_type": "stream",
     "text": [
      "<ipython-input-20-b62aeff9ff2b>:2: UserWarning: KNOWN BUG: p-values computed in this summary are likely much smaller than they should be. \n",
      " \n",
      "Please do not make inferences based on these values! \n",
      "\n",
      "Collaborate on a solution, and stay up to date at: \n",
      "github.com/dswah/pyGAM/issues/163 \n",
      "\n",
      "  gam.summary()\n"
     ]
    }
   ],
   "source": [
    "gam = LinearGAM(lam = 0.2).fit(X_train,y_train)\n",
    "gam.summary()"
   ]
  },
  {
   "cell_type": "code",
   "execution_count": 15,
   "metadata": {},
   "outputs": [
    {
     "data": {
      "text/plain": [
       "array([1.e-03, 1.e+05])"
      ]
     },
     "execution_count": 15,
     "metadata": {},
     "output_type": "execute_result"
    }
   ],
   "source": [
    "import numpy as np\n",
    "\n",
    "lam = np.logspace(-3,5,num=2)\n",
    "lam\n"
   ]
  },
  {
   "cell_type": "code",
   "execution_count": 17,
   "metadata": {},
   "outputs": [],
   "source": [
    "lams = [lam] * 19"
   ]
  },
  {
   "cell_type": "code",
   "execution_count": 18,
   "metadata": {},
   "outputs": [
    {
     "name": "stderr",
     "output_type": "stream",
     "text": [
      "  0% (36 of 524288) |            | Elapsed Time: 0:00:36 ETA:  6 days, 12:29:03"
     ]
    },
    {
     "ename": "KeyboardInterrupt",
     "evalue": "",
     "output_type": "error",
     "traceback": [
      "\u001b[0;31m---------------------------------------------------------------------------\u001b[0m",
      "\u001b[0;31mKeyboardInterrupt\u001b[0m                         Traceback (most recent call last)",
      "\u001b[0;32m<ipython-input-18-e31e0b942d1f>\u001b[0m in \u001b[0;36m<module>\u001b[0;34m\u001b[0m\n\u001b[1;32m      1\u001b[0m \u001b[0mlams\u001b[0m\u001b[0;34m\u001b[0m\u001b[0;34m\u001b[0m\u001b[0m\n\u001b[0;32m----> 2\u001b[0;31m \u001b[0mgam\u001b[0m\u001b[0;34m.\u001b[0m\u001b[0mgridsearch\u001b[0m\u001b[0;34m(\u001b[0m\u001b[0mX\u001b[0m\u001b[0;34m,\u001b[0m\u001b[0my\u001b[0m\u001b[0;34m,\u001b[0m \u001b[0mlam\u001b[0m\u001b[0;34m=\u001b[0m\u001b[0mlams\u001b[0m\u001b[0;34m)\u001b[0m\u001b[0;34m\u001b[0m\u001b[0;34m\u001b[0m\u001b[0m\n\u001b[0m\u001b[1;32m      3\u001b[0m \u001b[0mgam\u001b[0m\u001b[0;34m.\u001b[0m\u001b[0msummary\u001b[0m\u001b[0;34m(\u001b[0m\u001b[0;34m)\u001b[0m\u001b[0;34m\u001b[0m\u001b[0;34m\u001b[0m\u001b[0m\n",
      "\u001b[0;32m~/.local/lib/python3.8/site-packages/pygam/pygam.py\u001b[0m in \u001b[0;36mgridsearch\u001b[0;34m(self, X, y, weights, return_scores, keep_best, objective, progress, **param_grids)\u001b[0m\n\u001b[1;32m   1892\u001b[0m                     \u001b[0mcoef\u001b[0m \u001b[0;34m=\u001b[0m \u001b[0mmodels\u001b[0m\u001b[0;34m[\u001b[0m\u001b[0;34m-\u001b[0m\u001b[0;36m1\u001b[0m\u001b[0;34m]\u001b[0m\u001b[0;34m.\u001b[0m\u001b[0mcoef_\u001b[0m\u001b[0;34m\u001b[0m\u001b[0;34m\u001b[0m\u001b[0m\n\u001b[1;32m   1893\u001b[0m                     \u001b[0mgam\u001b[0m\u001b[0;34m.\u001b[0m\u001b[0mset_params\u001b[0m\u001b[0;34m(\u001b[0m\u001b[0mcoef_\u001b[0m\u001b[0;34m=\u001b[0m\u001b[0mcoef\u001b[0m\u001b[0;34m,\u001b[0m \u001b[0mforce\u001b[0m\u001b[0;34m=\u001b[0m\u001b[0;32mTrue\u001b[0m\u001b[0;34m,\u001b[0m \u001b[0mverbose\u001b[0m\u001b[0;34m=\u001b[0m\u001b[0;32mFalse\u001b[0m\u001b[0;34m)\u001b[0m\u001b[0;34m\u001b[0m\u001b[0;34m\u001b[0m\u001b[0m\n\u001b[0;32m-> 1894\u001b[0;31m                 \u001b[0mgam\u001b[0m\u001b[0;34m.\u001b[0m\u001b[0mfit\u001b[0m\u001b[0;34m(\u001b[0m\u001b[0mX\u001b[0m\u001b[0;34m,\u001b[0m \u001b[0my\u001b[0m\u001b[0;34m,\u001b[0m \u001b[0mweights\u001b[0m\u001b[0;34m)\u001b[0m\u001b[0;34m\u001b[0m\u001b[0;34m\u001b[0m\u001b[0m\n\u001b[0m\u001b[1;32m   1895\u001b[0m \u001b[0;34m\u001b[0m\u001b[0m\n\u001b[1;32m   1896\u001b[0m             \u001b[0;32mexcept\u001b[0m \u001b[0mValueError\u001b[0m \u001b[0;32mas\u001b[0m \u001b[0merror\u001b[0m\u001b[0;34m:\u001b[0m\u001b[0;34m\u001b[0m\u001b[0;34m\u001b[0m\u001b[0m\n",
      "\u001b[0;32m~/.local/lib/python3.8/site-packages/pygam/pygam.py\u001b[0m in \u001b[0;36mfit\u001b[0;34m(self, X, y, weights)\u001b[0m\n\u001b[1;32m    918\u001b[0m \u001b[0;34m\u001b[0m\u001b[0m\n\u001b[1;32m    919\u001b[0m         \u001b[0;31m# optimize\u001b[0m\u001b[0;34m\u001b[0m\u001b[0;34m\u001b[0m\u001b[0;34m\u001b[0m\u001b[0m\n\u001b[0;32m--> 920\u001b[0;31m         \u001b[0mself\u001b[0m\u001b[0;34m.\u001b[0m\u001b[0m_pirls\u001b[0m\u001b[0;34m(\u001b[0m\u001b[0mX\u001b[0m\u001b[0;34m,\u001b[0m \u001b[0my\u001b[0m\u001b[0;34m,\u001b[0m \u001b[0mweights\u001b[0m\u001b[0;34m)\u001b[0m\u001b[0;34m\u001b[0m\u001b[0;34m\u001b[0m\u001b[0m\n\u001b[0m\u001b[1;32m    921\u001b[0m         \u001b[0;31m# if self._opt == 0:\u001b[0m\u001b[0;34m\u001b[0m\u001b[0;34m\u001b[0m\u001b[0;34m\u001b[0m\u001b[0m\n\u001b[1;32m    922\u001b[0m         \u001b[0;31m#     self._pirls(X, y, weights)\u001b[0m\u001b[0;34m\u001b[0m\u001b[0;34m\u001b[0m\u001b[0;34m\u001b[0m\u001b[0m\n",
      "\u001b[0;32m~/.local/lib/python3.8/site-packages/pygam/pygam.py\u001b[0m in \u001b[0;36m_pirls\u001b[0;34m(self, X, Y, weights)\u001b[0m\n\u001b[1;32m    736\u001b[0m \u001b[0;34m\u001b[0m\u001b[0m\n\u001b[1;32m    737\u001b[0m             \u001b[0mWB\u001b[0m \u001b[0;34m=\u001b[0m \u001b[0mW\u001b[0m\u001b[0;34m.\u001b[0m\u001b[0mdot\u001b[0m\u001b[0;34m(\u001b[0m\u001b[0mmodelmat\u001b[0m\u001b[0;34m[\u001b[0m\u001b[0mmask\u001b[0m\u001b[0;34m,\u001b[0m\u001b[0;34m:\u001b[0m\u001b[0;34m]\u001b[0m\u001b[0;34m)\u001b[0m \u001b[0;31m# common matrix product\u001b[0m\u001b[0;34m\u001b[0m\u001b[0;34m\u001b[0m\u001b[0m\n\u001b[0;32m--> 738\u001b[0;31m             \u001b[0mQ\u001b[0m\u001b[0;34m,\u001b[0m \u001b[0mR\u001b[0m \u001b[0;34m=\u001b[0m \u001b[0mnp\u001b[0m\u001b[0;34m.\u001b[0m\u001b[0mlinalg\u001b[0m\u001b[0;34m.\u001b[0m\u001b[0mqr\u001b[0m\u001b[0;34m(\u001b[0m\u001b[0mWB\u001b[0m\u001b[0;34m.\u001b[0m\u001b[0mA\u001b[0m\u001b[0;34m)\u001b[0m\u001b[0;34m\u001b[0m\u001b[0;34m\u001b[0m\u001b[0m\n\u001b[0m\u001b[1;32m    739\u001b[0m \u001b[0;34m\u001b[0m\u001b[0m\n\u001b[1;32m    740\u001b[0m             \u001b[0;32mif\u001b[0m \u001b[0;32mnot\u001b[0m \u001b[0mnp\u001b[0m\u001b[0;34m.\u001b[0m\u001b[0misfinite\u001b[0m\u001b[0;34m(\u001b[0m\u001b[0mQ\u001b[0m\u001b[0;34m)\u001b[0m\u001b[0;34m.\u001b[0m\u001b[0mall\u001b[0m\u001b[0;34m(\u001b[0m\u001b[0;34m)\u001b[0m \u001b[0;32mor\u001b[0m \u001b[0;32mnot\u001b[0m \u001b[0mnp\u001b[0m\u001b[0;34m.\u001b[0m\u001b[0misfinite\u001b[0m\u001b[0;34m(\u001b[0m\u001b[0mR\u001b[0m\u001b[0;34m)\u001b[0m\u001b[0;34m.\u001b[0m\u001b[0mall\u001b[0m\u001b[0;34m(\u001b[0m\u001b[0;34m)\u001b[0m\u001b[0;34m:\u001b[0m\u001b[0;34m\u001b[0m\u001b[0;34m\u001b[0m\u001b[0m\n",
      "\u001b[0;32m~/.local/lib/python3.8/site-packages/numpy/core/overrides.py\u001b[0m in \u001b[0;36mqr\u001b[0;34m(*args, **kwargs)\u001b[0m\n",
      "\u001b[0;32m~/.local/lib/python3.8/site-packages/numpy/linalg/linalg.py\u001b[0m in \u001b[0;36mqr\u001b[0;34m(a, mode)\u001b[0m\n\u001b[1;32m    970\u001b[0m     \u001b[0msignature\u001b[0m \u001b[0;34m=\u001b[0m \u001b[0;34m'DD->D'\u001b[0m \u001b[0;32mif\u001b[0m \u001b[0misComplexType\u001b[0m\u001b[0;34m(\u001b[0m\u001b[0mt\u001b[0m\u001b[0;34m)\u001b[0m \u001b[0;32melse\u001b[0m \u001b[0;34m'dd->d'\u001b[0m\u001b[0;34m\u001b[0m\u001b[0;34m\u001b[0m\u001b[0m\n\u001b[1;32m    971\u001b[0m     \u001b[0mextobj\u001b[0m \u001b[0;34m=\u001b[0m \u001b[0mget_linalg_error_extobj\u001b[0m\u001b[0;34m(\u001b[0m\u001b[0m_raise_linalgerror_qr\u001b[0m\u001b[0;34m)\u001b[0m\u001b[0;34m\u001b[0m\u001b[0;34m\u001b[0m\u001b[0m\n\u001b[0;32m--> 972\u001b[0;31m     \u001b[0mq\u001b[0m \u001b[0;34m=\u001b[0m \u001b[0mgufunc\u001b[0m\u001b[0;34m(\u001b[0m\u001b[0ma\u001b[0m\u001b[0;34m,\u001b[0m \u001b[0mtau\u001b[0m\u001b[0;34m,\u001b[0m \u001b[0msignature\u001b[0m\u001b[0;34m=\u001b[0m\u001b[0msignature\u001b[0m\u001b[0;34m,\u001b[0m \u001b[0mextobj\u001b[0m\u001b[0;34m=\u001b[0m\u001b[0mextobj\u001b[0m\u001b[0;34m)\u001b[0m\u001b[0;34m\u001b[0m\u001b[0;34m\u001b[0m\u001b[0m\n\u001b[0m\u001b[1;32m    973\u001b[0m     \u001b[0mr\u001b[0m \u001b[0;34m=\u001b[0m \u001b[0mtriu\u001b[0m\u001b[0;34m(\u001b[0m\u001b[0ma\u001b[0m\u001b[0;34m[\u001b[0m\u001b[0;34m...\u001b[0m\u001b[0;34m,\u001b[0m \u001b[0;34m:\u001b[0m\u001b[0mmc\u001b[0m\u001b[0;34m,\u001b[0m \u001b[0;34m:\u001b[0m\u001b[0;34m]\u001b[0m\u001b[0;34m)\u001b[0m\u001b[0;34m\u001b[0m\u001b[0;34m\u001b[0m\u001b[0m\n\u001b[1;32m    974\u001b[0m \u001b[0;34m\u001b[0m\u001b[0m\n",
      "\u001b[0;31mKeyboardInterrupt\u001b[0m: "
     ]
    }
   ],
   "source": [
    "lams\n",
    "gam.gridsearch(X,y, lam=lams)\n",
    "gam.summary()"
   ]
  },
  {
   "cell_type": "code",
   "execution_count": 12,
   "metadata": {},
   "outputs": [
    {
     "data": {
      "text/plain": [
       "19"
      ]
     },
     "execution_count": 12,
     "metadata": {},
     "output_type": "execute_result"
    }
   ],
   "source": []
  },
  {
   "cell_type": "code",
   "execution_count": 21,
   "metadata": {},
   "outputs": [
    {
     "name": "stderr",
     "output_type": "stream",
     "text": [
      "100% (11 of 11) |########################| Elapsed Time: 0:00:12 Time:  0:00:12\n"
     ]
    },
    {
     "data": {
      "text/plain": [
       "LinearGAM(callbacks=[Deviance(), Diffs()], fit_intercept=True, \n",
       "   max_iter=100, scale=None, \n",
       "   terms=s(0) + s(1) + s(2) + s(3) + s(4) + s(5) + s(6) + s(7) + s(8) + s(9) + s(10) + s(11) + s(12) + s(13) + s(14) + s(15) + s(16) + s(17) + s(18) + intercept,\n",
       "   tol=0.0001, verbose=False)"
      ]
     },
     "execution_count": 21,
     "metadata": {},
     "output_type": "execute_result"
    }
   ],
   "source": [
    "gam.gridsearch(X_train, y_train)\n"
   ]
  },
  {
   "cell_type": "code",
   "execution_count": 22,
   "metadata": {},
   "outputs": [
    {
     "name": "stdout",
     "output_type": "stream",
     "text": [
      "LinearGAM                                                                                                 \n",
      "=============================================== ==========================================================\n",
      "Distribution:                        NormalDist Effective DoF:                                     49.3824\n",
      "Link Function:                     IdentityLink Log Likelihood:                                -27103.1026\n",
      "Number of Samples:                         3265 AIC:                                            54306.9699\n",
      "                                                AICc:                                            54308.581\n",
      "                                                GCV:                                             1651.4721\n",
      "                                                Scale:                                           1606.5728\n",
      "                                                Pseudo R-Squared:                                   0.6814\n",
      "==========================================================================================================\n",
      "Feature Function                  Lambda               Rank         EDoF         P > x        Sig. Code   \n",
      "================================= ==================== ============ ============ ============ ============\n",
      "s(0)                              [251.1886]           20           7.3          4.46e-01                 \n",
      "s(1)                              [251.1886]           20           4.8          4.37e-02     *           \n",
      "s(2)                              [251.1886]           20           1.9          2.87e-01                 \n",
      "s(3)                              [251.1886]           20           2.2          5.92e-02     .           \n",
      "s(4)                              [251.1886]           20           4.5          3.30e-03     **          \n",
      "s(5)                              [251.1886]           20           1.6          2.60e-02     *           \n",
      "s(6)                              [251.1886]           20           1.7          3.42e-01                 \n",
      "s(7)                              [251.1886]           20           1.7          5.17e-01                 \n",
      "s(8)                              [251.1886]           20           0.2          3.30e-03     **          \n",
      "s(9)                              [251.1886]           20           0.2          2.60e-02     *           \n",
      "s(10)                             [251.1886]           20           0.2          3.42e-01                 \n",
      "s(11)                             [251.1886]           20           0.2          5.17e-01                 \n",
      "s(12)                             [251.1886]           20           5.1          6.98e-03     **          \n",
      "s(13)                             [251.1886]           20           3.1          1.21e-02     *           \n",
      "s(14)                             [251.1886]           20           1.4          4.13e-02     *           \n",
      "s(15)                             [251.1886]           20           1.2          4.01e-01                 \n",
      "s(16)                             [251.1886]           20           4.5          5.43e-03     **          \n",
      "s(17)                             [251.1886]           20           4.1          7.40e-02     .           \n",
      "s(18)                             [251.1886]           20           3.7          1.11e-16     ***         \n",
      "intercept                                              1            0.0          1.11e-16     ***         \n",
      "==========================================================================================================\n",
      "Significance codes:  0 '***' 0.001 '**' 0.01 '*' 0.05 '.' 0.1 ' ' 1\n",
      "\n",
      "WARNING: Fitting splines and a linear function to a feature introduces a model identifiability problem\n",
      "         which can cause p-values to appear significant when they are not.\n",
      "\n",
      "WARNING: p-values calculated in this manner behave correctly for un-penalized models or models with\n",
      "         known smoothing parameters, but when smoothing parameters have been estimated, the p-values\n",
      "         are typically lower than they should be, meaning that the tests reject the null too readily.\n"
     ]
    },
    {
     "name": "stderr",
     "output_type": "stream",
     "text": [
      "<ipython-input-22-dec6a6acdaaa>:1: UserWarning: KNOWN BUG: p-values computed in this summary are likely much smaller than they should be. \n",
      " \n",
      "Please do not make inferences based on these values! \n",
      "\n",
      "Collaborate on a solution, and stay up to date at: \n",
      "github.com/dswah/pyGAM/issues/163 \n",
      "\n",
      "  gam.summary()\n"
     ]
    }
   ],
   "source": [
    "gam.summary()"
   ]
  },
  {
   "cell_type": "code",
   "execution_count": 29,
   "metadata": {},
   "outputs": [
    {
     "data": {
      "text/plain": [
       "(1679.0917611999314, 0.6594790809413111, 31.35208728760206)"
      ]
     },
     "execution_count": 29,
     "metadata": {},
     "output_type": "execute_result"
    }
   ],
   "source": [
    "from sklearn.metrics import mean_squared_error ,mean_absolute_error, r2_score\n",
    "\n",
    "\n",
    "mean_squared_error(y_test, gam.predict(X_test)), r2_score(y_test, gam.predict(X_test)), mean_absolute_error(y_test, gam.predict(X_test))\n",
    "\n"
   ]
  }
 ],
 "metadata": {
  "kernelspec": {
   "display_name": "Python 3.8.10 64-bit",
   "language": "python",
   "name": "python3"
  },
  "language_info": {
   "codemirror_mode": {
    "name": "ipython",
    "version": 3
   },
   "file_extension": ".py",
   "mimetype": "text/x-python",
   "name": "python",
   "nbconvert_exporter": "python",
   "pygments_lexer": "ipython3",
   "version": "3.8.10"
  },
  "orig_nbformat": 4,
  "vscode": {
   "interpreter": {
    "hash": "e7370f93d1d0cde622a1f8e1c04877d8463912d04d973331ad4851f04de6915a"
   }
  }
 },
 "nbformat": 4,
 "nbformat_minor": 2
}
