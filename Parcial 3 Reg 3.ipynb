{
 "cells": [
  {
   "cell_type": "code",
   "execution_count": 18,
   "metadata": {},
   "outputs": [
    {
     "name": "stderr",
     "output_type": "stream",
     "text": [
      "c:\\Users\\Daniel\\anaconda3\\envs\\openbox3.7\\lib\\site-packages\\sklearn\\base.py:338: UserWarning: Trying to unpickle estimator StandardScaler from version 1.1.3 when using version 1.0.2. This might lead to breaking code or invalid results. Use at your own risk. For more info please refer to:\n",
      "https://scikit-learn.org/stable/modules/model_persistence.html#security-maintainability-limitations\n",
      "  UserWarning,\n",
      "c:\\Users\\Daniel\\anaconda3\\envs\\openbox3.7\\lib\\site-packages\\sklearn\\base.py:338: UserWarning: Trying to unpickle estimator SelectKBest from version 1.1.3 when using version 1.0.2. This might lead to breaking code or invalid results. Use at your own risk. For more info please refer to:\n",
      "https://scikit-learn.org/stable/modules/model_persistence.html#security-maintainability-limitations\n",
      "  UserWarning,\n",
      "c:\\Users\\Daniel\\anaconda3\\envs\\openbox3.7\\lib\\site-packages\\sklearn\\base.py:338: UserWarning: Trying to unpickle estimator PolynomialFeatures from version 1.1.3 when using version 1.0.2. This might lead to breaking code or invalid results. Use at your own risk. For more info please refer to:\n",
      "https://scikit-learn.org/stable/modules/model_persistence.html#security-maintainability-limitations\n",
      "  UserWarning,\n",
      "c:\\Users\\Daniel\\anaconda3\\envs\\openbox3.7\\lib\\site-packages\\sklearn\\base.py:338: UserWarning: Trying to unpickle estimator Ridge from version 1.1.3 when using version 1.0.2. This might lead to breaking code or invalid results. Use at your own risk. For more info please refer to:\n",
      "https://scikit-learn.org/stable/modules/model_persistence.html#security-maintainability-limitations\n",
      "  UserWarning,\n",
      "c:\\Users\\Daniel\\anaconda3\\envs\\openbox3.7\\lib\\site-packages\\sklearn\\base.py:338: UserWarning: Trying to unpickle estimator Pipeline from version 1.1.3 when using version 1.0.2. This might lead to breaking code or invalid results. Use at your own risk. For more info please refer to:\n",
      "https://scikit-learn.org/stable/modules/model_persistence.html#security-maintainability-limitations\n",
      "  UserWarning,\n"
     ]
    },
    {
     "data": {
      "text/plain": [
       "1794.0272840264809"
      ]
     },
     "execution_count": 18,
     "metadata": {},
     "output_type": "execute_result"
    }
   ],
   "source": [
    "import pickle\n",
    "import pandas as pd\n",
    "import sklearn\n",
    "import numpy as np\n",
    "from numpy import loadtxt\n",
    "from sklearn.metrics import mean_squared_error\n",
    "\n",
    "import numpy as np\n",
    "import pandas as pd\n",
    "import matplotlib.pyplot as plt\n",
    "import seaborn as sns\n",
    "from sklearn.metrics import mean_squared_error\n",
    "from collections import Counter\n",
    "from IPython.core.display import display, HTML\n",
    "\n",
    "\n",
    "\n",
    "\n",
    "filename_modelo = 'Mod1763.sav'\n",
    "best_model = pickle.load(open(filename_modelo,'rb'))\n",
    "\n",
    "\n",
    "X_test = loadtxt('X_test.csv', delimiter=',')\n",
    "y_test = loadtxt('y_test.csv', delimiter=',')\n",
    "\n",
    "y_pred_pureba = best_model.predict(X_test)\n",
    "mean_squared_error(y_pred_pureba,y_test)"
   ]
  },
  {
   "cell_type": "markdown",
   "metadata": {},
   "source": [
    "Entrenar con todos los datos\n"
   ]
  },
  {
   "cell_type": "code",
   "execution_count": 53,
   "metadata": {},
   "outputs": [],
   "source": [
    "df_all_data = pd.read_excel('data.xlsx')\n",
    "X_all = df_all_data.iloc[:, 0:19].values\n",
    "y_all = df_all_data.iloc[:,19].values.reshape(-1,1)\n",
    "\n",
    "#SOLO POR VER CUANTO DA\n",
    "# from sklearn.model_selection import cross_val_score\n",
    "# accuracies = cross_val_score(estimator = best_model,scoring='neg_mean_squared_error', X = X_all, y = y_all, cv = 10);\n",
    "# accuracies.mean(), accuracies.std() "
   ]
  },
  {
   "cell_type": "code",
   "execution_count": 55,
   "metadata": {},
   "outputs": [
    {
     "name": "stdout",
     "output_type": "stream",
     "text": [
      "1703.7842252766093\n"
     ]
    }
   ],
   "source": [
    "import pygam\n",
    "from pygam import LinearGAM\n",
    "\n",
    "cols = np.array([ 1,  4, 14, 16, 18])\n",
    "X_all_5_vars= X_all[:,cols]\n",
    "X_test_5_vars= X_test[:,cols]\n",
    "\n",
    "lam1 = 1000\n",
    "lam2 = 0.01\n",
    "lam3 = 20\n",
    "lam4 = 40\n",
    "lam5 = 0.01\n",
    "\n",
    "gam = LinearGAM(lam = [lam1,lam2,lam3,lam4,lam5]).fit(X_all_5_vars,y_all)\n",
    "lams = [lam1,lam2,lam3,lam4,lam5]\n",
    "\n",
    "y_pred = gam.predict(X_test_5_vars)\n",
    "print(mean_squared_error(y_test,y_pred))"
   ]
  },
  {
   "cell_type": "code",
   "execution_count": null,
   "metadata": {},
   "outputs": [],
   "source": [
    "best_model.fit(X_all,y_all)"
   ]
  },
  {
   "cell_type": "markdown",
   "metadata": {},
   "source": [
    "Hacer archivo para entregar"
   ]
  },
  {
   "cell_type": "code",
   "execution_count": 57,
   "metadata": {},
   "outputs": [
    {
     "name": "stdout",
     "output_type": "stream",
     "text": [
      "20\n"
     ]
    }
   ],
   "source": [
    "filename_entrega = \"pred_Reg_3_AUX.xlsx\"\n",
    "\n",
    "\n",
    "\n",
    "df_X_entregar = pd.read_excel('data2.xlsx')\n",
    "df_X_entregar = df_X_entregar.drop(columns=[\"ID\"])\n",
    "X_entregar = df_X_entregar.to_numpy()\n",
    "X_entregar_= X_entregar[:,cols]\n",
    "# y_entregar = best_model.predict(X_entregar)\n",
    "y_entregar = gam.predict(X_entregar_)\n",
    "print(np.count_nonzero(y_entregar<0))\n",
    "y_entregar[y_entregar<0]=0\n",
    "\n",
    "df_y_entregar = pd.DataFrame(y_entregar)\n",
    "df_y_entregar.to_excel(filename_entrega, index = False)"
   ]
  },
  {
   "cell_type": "code",
   "execution_count": 58,
   "metadata": {},
   "outputs": [
    {
     "data": {
      "text/plain": [
       "Index(['sd_ws80m1', 'avg_ws80m2', 'avg_wg', 'avg_30ft', 'wind_speed'], dtype='object')"
      ]
     },
     "execution_count": 58,
     "metadata": {},
     "output_type": "execute_result"
    }
   ],
   "source": [
    "df_all_data.columns[cols]"
   ]
  }
 ],
 "metadata": {
  "kernelspec": {
   "display_name": "Python 3.7.15 ('openbox3.7')",
   "language": "python",
   "name": "python3"
  },
  "language_info": {
   "codemirror_mode": {
    "name": "ipython",
    "version": 3
   },
   "file_extension": ".py",
   "mimetype": "text/x-python",
   "name": "python",
   "nbconvert_exporter": "python",
   "pygments_lexer": "ipython3",
   "version": "3.7.15"
  },
  "orig_nbformat": 4,
  "vscode": {
   "interpreter": {
    "hash": "e987335b78db8449cd4834775c03861c671c52888ef9987569d8eabd413aabf4"
   }
  }
 },
 "nbformat": 4,
 "nbformat_minor": 2
}
